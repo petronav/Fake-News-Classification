{
 "cells": [
  {
   "cell_type": "code",
   "execution_count": 1,
   "metadata": {},
   "outputs": [
    {
     "name": "stderr",
     "output_type": "stream",
     "text": [
      "2023-12-05 18:20:37.518662: I tensorflow/core/platform/cpu_feature_guard.cc:182] This TensorFlow binary is optimized to use available CPU instructions in performance-critical operations.\n",
      "To enable the following instructions: AVX2 FMA, in other operations, rebuild TensorFlow with the appropriate compiler flags.\n",
      "/Users/mikhailwladimirovichkuznetsov/Library/Python/3.9/lib/python/site-packages/urllib3/__init__.py:34: NotOpenSSLWarning: urllib3 v2.0 only supports OpenSSL 1.1.1+, currently the 'ssl' module is compiled with 'LibreSSL 2.8.3'. See: https://github.com/urllib3/urllib3/issues/3020\n",
      "  warnings.warn(\n"
     ]
    }
   ],
   "source": [
    "import numpy as np\n",
    "import pandas as pd\n",
    "import matplotlib.pyplot as plt\n",
    "from keras.preprocessing import text, sequence\n",
    "from sklearn.metrics import (\n",
    "    classification_report,\n",
    "    confusion_matrix, \n",
    "    accuracy_score,\n",
    "    ConfusionMatrixDisplay\n",
    ")\n",
    "from sklearn.model_selection import train_test_split\n",
    "import keras\n",
    "from keras.models import Sequential\n",
    "from keras.layers import (\n",
    "    Dense, \n",
    "    Embedding, \n",
    "    LSTM, \n",
    "    Dropout, \n",
    "    GRU, \n",
    "    Bidirectional\n",
    ")\n",
    "from keras.callbacks import ReduceLROnPlateau\n",
    "# import tensorflow as tf\n",
    "import os\n",
    "import urllib.request\n",
    "import zipfile\n",
    "from tqdm import tqdm\n",
    "import requests\n"
   ]
  },
  {
   "cell_type": "markdown",
   "metadata": {},
   "source": [
    "### Download Data from kaggle\n",
    "\n",
    "Source : <a hreaf=\"https://www.kaggle.com/datasets/saurabhshahane/fake-news-classification\">kaggle</a>. Download it <a href=\"https://www.kaggle.com/datasets/saurabhshahane/fake-news-classification/download?datasetVersionNumber=77\">HERE</a>.\n"
   ]
  },
  {
   "cell_type": "markdown",
   "metadata": {},
   "source": [
    "### Load Data\n",
    "\n",
    "Data Info :\n",
    "\n",
    "(WELFake) is a dataset of 72,134 news articles with 35,028 real and 37,106 fake news. For this, authors merged four popular news datasets (i.e. Kaggle, McIntire, Reuters, BuzzFeed Political) to prevent over-fitting of classifiers and to provide more text data for better ML training.\n",
    "\n",
    "Dataset contains four columns: Serial number (starting from 0); Title (about the text news heading); Text (about the news content); and Label (0 = fake and 1 = real).\n",
    "\n",
    "There are 78098 data entries in csv file out of which only 72134 entries are accessed as per the data frame.\n",
    "\n",
    "NOTE : Based on <a href=\"https://www.kaggle.com/code/madz2000/nlp-using-glove-embeddings-99-87-accuracy/notebook\">this kaggle notebook</a>."
   ]
  },
  {
   "cell_type": "code",
   "execution_count": 2,
   "metadata": {},
   "outputs": [],
   "source": [
    "df = pd.read_csv(\"WELFake_Dataset.csv\")\n",
    "mapper = {\n",
    "    0 : \"fake\",\n",
    "    1 : \"real\",\n",
    "}"
   ]
  },
  {
   "cell_type": "code",
   "execution_count": 3,
   "metadata": {},
   "outputs": [],
   "source": [
    "# print(df.columns) # Index(['Unnamed: 0', 'title', 'text', 'label'], dtype='object')\n",
    "if \"Unnamed: 0\" in df.columns:\n",
    "    df.drop(\"Unnamed: 0\", axis=1, inplace=True)"
   ]
  },
  {
   "cell_type": "code",
   "execution_count": 4,
   "metadata": {},
   "outputs": [],
   "source": [
    "df.fillna(\"\")\n",
    "headline = df[\"title\"]\n",
    "news = df[\"text\"]\n",
    "df[\"tot_news\"] = df[\"title\"].astype(\"str\") + \" \" + df[\"text\"].astype(\"str\")\n",
    "tot_news = df[\"tot_news\"]\n",
    "labels = df[\"label\"]"
   ]
  },
  {
   "cell_type": "code",
   "execution_count": 5,
   "metadata": {},
   "outputs": [],
   "source": [
    "fake_news = news[labels == 0]\n",
    "real_news = news[labels == 1]\n",
    "# print(fake_news)"
   ]
  },
  {
   "cell_type": "markdown",
   "metadata": {},
   "source": [
    "### Download glove model"
   ]
  },
  {
   "cell_type": "code",
   "execution_count": 6,
   "metadata": {},
   "outputs": [],
   "source": [
    "glove_url = \"https://nlp.stanford.edu/data/glove.840B.300d.zip\"\n",
    "\n",
    "\n",
    "_, tail = os.path.split(glove_url)\n",
    "# print(tail)\n",
    "already_extracted = any(i.startswith(os.path.splitext(tail)[0]) for i in os.listdir())\n",
    "already_downloaded = os.path.isfile(tail)\n",
    "if not (already_extracted or already_downloaded):\n",
    "    resp = requests.get(glove_url, stream=True)\n",
    "    total = int(resp.headers.get('content-length', 0))\n",
    "    with open(tail, 'wb') as file, tqdm(\n",
    "        desc=tail,\n",
    "        total=total,\n",
    "        unit='iB',\n",
    "        unit_scale=True,\n",
    "        unit_divisor=2048,\n",
    "    ) as bar:\n",
    "        for data in resp.iter_content(chunk_size=2048):\n",
    "            size = file.write(data)\n",
    "            bar.update(size)\n",
    "# if not os.path.isfile(tail):\n",
    "#     urllib.request.urlretrieve(glove_url, tail)\n",
    "dest_folder = os.getcwd()\n",
    "\n",
    "try:\n",
    "    zip_file = zipfile.ZipFile(tail)\n",
    "    zip_file.extractall(dest_folder)\n",
    "except Exception as e:\n",
    "    if e.__class__.__name__ == \"BadZipFile\":\n",
    "        print(f\"Your downloaded file is corrupt! RETRY !\")\n",
    "finally:\n",
    "    if os.path.isfile(tail):\n",
    "        os.remove(tail)"
   ]
  },
  {
   "cell_type": "code",
   "execution_count": 7,
   "metadata": {},
   "outputs": [
    {
     "name": "stderr",
     "output_type": "stream",
     "text": [
      "2196017it [02:23, 15300.45it/s]"
     ]
    },
    {
     "name": "stdout",
     "output_type": "stream",
     "text": [
      "Found 2196016 word vectors.\n"
     ]
    },
    {
     "name": "stderr",
     "output_type": "stream",
     "text": [
      "\n"
     ]
    }
   ],
   "source": [
    "EMBEDDING_FILE = os.path.splitext(tail)[0] + \".txt\"\n",
    "# def get_coefs(word, *arr): \n",
    "#     return word, np.asarray(arr, dtype='float32')\n",
    "embeddings_index = {}\n",
    "with open(EMBEDDING_FILE, \"r\") as f:\n",
    "    for line in tqdm(f):\n",
    "        values = line.split(\" \")\n",
    "        word = values[0]\n",
    "        coefs = np.asarray(values[1:], dtype='float32')\n",
    "        embeddings_index[word] = coefs\n",
    "\n",
    "print(f\"Found {len(embeddings_index)} word vectors.\")"
   ]
  },
  {
   "cell_type": "markdown",
   "metadata": {},
   "source": [
    "### Training"
   ]
  },
  {
   "cell_type": "code",
   "execution_count": 8,
   "metadata": {},
   "outputs": [],
   "source": [
    "# X = tot_news.values\n",
    "X = tot_news\n",
    "\n",
    "Y = labels.values\n",
    "x_train, x_test, y_train, y_test = train_test_split(X, Y, random_state=73939133)"
   ]
  },
  {
   "cell_type": "code",
   "execution_count": 9,
   "metadata": {},
   "outputs": [],
   "source": [
    "max_features = 10000\n",
    "maxlen = 300\n",
    "batch_size = 256\n",
    "epochs = 10\n",
    "embed_size = 100\n",
    "# embed_size = 300"
   ]
  },
  {
   "cell_type": "code",
   "execution_count": 10,
   "metadata": {},
   "outputs": [],
   "source": [
    "tokenizer = text.Tokenizer(num_words=max_features,  lower=None)\n",
    "tokenizer.fit_on_texts(x_train)\n",
    "tokenized_train = tokenizer.texts_to_sequences(x_train)\n",
    "x_train = sequence.pad_sequences(tokenized_train, maxlen=maxlen)\n",
    "tokenized_test = tokenizer.texts_to_sequences(x_test)\n",
    "x_test = sequence.pad_sequences(tokenized_test, maxlen=maxlen)\n"
   ]
  },
  {
   "cell_type": "code",
   "execution_count": 11,
   "metadata": {},
   "outputs": [],
   "source": [
    "all_embs = np.stack(list(embeddings_index.values()))\n",
    "emb_mean,emb_std = all_embs.mean(), all_embs.std()\n",
    "embed_size = all_embs.shape[1]\n",
    "\n",
    "word_index = tokenizer.word_index\n",
    "nb_words = min(max_features, len(word_index))\n",
    "embedding_matrix = np.random.normal(emb_mean, emb_std, (max_features, embed_size))\n",
    "for word, i in word_index.items():\n",
    "    if i >= max_features:\n",
    "        continue\n",
    "    embedding_vector = embeddings_index.get(word)\n",
    "    if embedding_vector is not None:\n",
    "        embedding_matrix[i] = embedding_vector"
   ]
  },
  {
   "cell_type": "code",
   "execution_count": 15,
   "metadata": {},
   "outputs": [],
   "source": [
    "learning_rate_reduction = ReduceLROnPlateau(\n",
    "    monitor='val_accuracy', \n",
    "    patience=2, \n",
    "    verbose=True,\n",
    "    factor=0.6, \n",
    "    min_lr=0.00001\n",
    ")"
   ]
  },
  {
   "cell_type": "code",
   "execution_count": 23,
   "metadata": {},
   "outputs": [
    {
     "name": "stderr",
     "output_type": "stream",
     "text": [
      "WARNING:absl:`lr` is deprecated in Keras optimizer, please use `learning_rate` or use the legacy optimizer, e.g.,tf.keras.optimizers.legacy.Adam.\n"
     ]
    },
    {
     "name": "stdout",
     "output_type": "stream",
     "text": [
      "Model: \"sequential_2\"\n",
      "_________________________________________________________________\n",
      " Layer (type)                Output Shape              Param #   \n",
      "=================================================================\n",
      " embedding_2 (Embedding)     (None, 300, 300)          3000000   \n",
      "                                                                 \n",
      " bidirectional_6 (Bidirecti  (None, 300, 128)          186880    \n",
      " onal)                                                           \n",
      "                                                                 \n",
      " bidirectional_7 (Bidirecti  (None, 300, 64)           31104     \n",
      " onal)                                                           \n",
      "                                                                 \n",
      " bidirectional_8 (Bidirecti  (None, 64)                24832     \n",
      " onal)                                                           \n",
      "                                                                 \n",
      " dense_4 (Dense)             (None, 32)                2080      \n",
      "                                                                 \n",
      " dense_5 (Dense)             (None, 1)                 33        \n",
      "                                                                 \n",
      "=================================================================\n",
      "Total params: 3244929 (12.38 MB)\n",
      "Trainable params: 244929 (956.75 KB)\n",
      "Non-trainable params: 3000000 (11.44 MB)\n",
      "_________________________________________________________________\n"
     ]
    }
   ],
   "source": [
    "model4 = Sequential()\n",
    "#Non-trainable embeddidng layer\n",
    "model4.add(Embedding(\n",
    "    max_features, \n",
    "    output_dim=embed_size, \n",
    "    weights=[embedding_matrix], \n",
    "    input_length=maxlen, \n",
    "    trainable=False))\n",
    "#LSTM \n",
    "model4.add(Bidirectional(\n",
    "    LSTM(\n",
    "        # units=128, \n",
    "        units=64, \n",
    "        return_sequences=True, \n",
    "        recurrent_dropout=0.25, \n",
    "        dropout=0.25)\n",
    "    ))\n",
    "model4.add(Bidirectional(GRU(\n",
    "    # units=64, \n",
    "    units=32, \n",
    "    return_sequences=True, \n",
    "    recurrent_dropout=0.1, \n",
    "    dropout=0.1)))\n",
    "model4.add(Bidirectional(LSTM(\n",
    "    units=32, \n",
    "    # units=32, \n",
    "    # return_sequences=True, \n",
    "    recurrent_dropout=0.1, \n",
    "    dropout=0.1)))\n",
    "\n",
    "model4.add(Dense(units=32, activation=\"relu\"))\n",
    "model4.add(Dense(1, activation=\"sigmoid\"))\n",
    "model4.compile(\n",
    "    optimizer=keras.optimizers.Adam(lr=0.01), \n",
    "    loss=\"binary_crossentropy\", \n",
    "    metrics=[\"accuracy\"])\n",
    "model4.summary()\n"
   ]
  },
  {
   "cell_type": "code",
   "execution_count": 19,
   "metadata": {},
   "outputs": [
    {
     "name": "stdout",
     "output_type": "stream",
     "text": [
      "Epoch 1/10\n",
      "212/212 [==============================] - 885s 4s/step - loss: 0.2828 - accuracy: 0.8805 - val_loss: 0.1775 - val_accuracy: 0.9348 - lr: 0.0010\n",
      "Epoch 2/10\n",
      "212/212 [==============================] - 824s 4s/step - loss: 0.2224 - accuracy: 0.9104 - val_loss: 0.2000 - val_accuracy: 0.9292 - lr: 0.0010\n",
      "Epoch 3/10\n",
      "212/212 [==============================] - 837s 4s/step - loss: 0.1734 - accuracy: 0.9358 - val_loss: 0.1549 - val_accuracy: 0.9419 - lr: 0.0010\n",
      "Epoch 4/10\n",
      "212/212 [==============================] - 842s 4s/step - loss: 0.1351 - accuracy: 0.9499 - val_loss: 0.1246 - val_accuracy: 0.9531 - lr: 0.0010\n",
      "Epoch 5/10\n",
      "212/212 [==============================] - 890s 4s/step - loss: 0.1128 - accuracy: 0.9584 - val_loss: 0.1073 - val_accuracy: 0.9589 - lr: 0.0010\n",
      "Epoch 6/10\n",
      "212/212 [==============================] - 728s 3s/step - loss: 0.0980 - accuracy: 0.9631 - val_loss: 0.0971 - val_accuracy: 0.9630 - lr: 0.0010\n",
      "Epoch 7/10\n",
      "212/212 [==============================] - 658s 3s/step - loss: 0.0854 - accuracy: 0.9685 - val_loss: 0.0959 - val_accuracy: 0.9647 - lr: 0.0010\n",
      "Epoch 8/10\n",
      "212/212 [==============================] - 766s 4s/step - loss: 0.0786 - accuracy: 0.9708 - val_loss: 0.0940 - val_accuracy: 0.9643 - lr: 0.0010\n",
      "Epoch 9/10\n",
      "212/212 [==============================] - 865s 4s/step - loss: 0.0673 - accuracy: 0.9753 - val_loss: 0.0865 - val_accuracy: 0.9671 - lr: 0.0010\n",
      "Epoch 10/10\n",
      "212/212 [==============================] - 811s 4s/step - loss: 0.0597 - accuracy: 0.9774 - val_loss: 0.0754 - val_accuracy: 0.9714 - lr: 0.0010\n"
     ]
    }
   ],
   "source": [
    "history = model4.fit(\n",
    "    x_train, \n",
    "    y_train, \n",
    "    batch_size=batch_size, \n",
    "    validation_data=(x_test,y_test), \n",
    "    epochs=epochs, \n",
    "    callbacks=[learning_rate_reduction])"
   ]
  },
  {
   "cell_type": "markdown",
   "metadata": {},
   "source": [
    "### Inference"
   ]
  },
  {
   "cell_type": "code",
   "execution_count": 20,
   "metadata": {},
   "outputs": [
    {
     "name": "stdout",
     "output_type": "stream",
     "text": [
      "1691/1691 [==============================] - 338s 200ms/step - loss: 0.0431 - accuracy: 0.9846\n",
      "Accuracy of the model on Training Data is -  98.4639585018158 %\n",
      "564/564 [==============================] - 113s 199ms/step - loss: 0.0754 - accuracy: 0.9714\n",
      "Accuracy of the model on Testing Data is -  97.13873863220215 %\n"
     ]
    }
   ],
   "source": [
    "print(\"Accuracy of the model on Training Data is - \" , model4.evaluate(x_train,y_train)[1]*100 , \"%\")\n",
    "print(\"Accuracy of the model on Testing Data is - \" , model4.evaluate(x_test,y_test)[1]*100 , \"%\")"
   ]
  },
  {
   "cell_type": "code",
   "execution_count": 21,
   "metadata": {},
   "outputs": [],
   "source": [
    "model4.save('./test4.keras')"
   ]
  },
  {
   "cell_type": "code",
   "execution_count": 22,
   "metadata": {},
   "outputs": [
    {
     "name": "stdout",
     "output_type": "stream",
     "text": [
      "564/564 [==============================] - 126s 221ms/step\n",
      "Model 4 accuracy : 0.9714\n",
      "Model 4 confusion matrix :\n"
     ]
    },
    {
     "data": {
      "image/png": "[encoded data removed]",
      "text/plain": [
       "<Figure size 640x480 with 2 Axes>"
      ]
     },
     "metadata": {},
     "output_type": "display_data"
    },
    {
     "name": "stdout",
     "output_type": "stream",
     "text": [
      "Model 4 report : \n",
      "              precision    recall  f1-score   support\n",
      "\n",
      "           0       0.97      0.97      0.97      8792\n",
      "           1       0.98      0.97      0.97      9242\n",
      "\n",
      "    accuracy                           0.97     18034\n",
      "   macro avg       0.97      0.97      0.97     18034\n",
      "weighted avg       0.97      0.97      0.97     18034\n",
      "\n"
     ]
    }
   ],
   "source": [
    "y_pred = model4.predict(x_test)\n",
    "y_pred = np.rint(y_pred)\n",
    "acc = accuracy_score(y_test, y_pred)\n",
    "print(f\"Model 4 accuracy : {acc:.4f}\")\n",
    "confmat = confusion_matrix(y_test, y_pred)\n",
    "print(f\"Model 4 confusion matrix :\")\n",
    "# y_test # array([1, 0, 1, ..., 1, 1, 1])\n",
    "disp = ConfusionMatrixDisplay(confmat)\n",
    "disp.plot()\n",
    "plt.savefig('confmat_model4.png', dpi=300)\n",
    "plt.show()\n",
    "clasfnrep = classification_report(y_test, y_pred)\n",
    "print(f\"Model 4 report : \\n{clasfnrep}\")"
   ]
  }
 ],
 "metadata": {
  "kernelspec": {
   "display_name": "Python 3",
   "language": "python",
   "name": "python3"
  },
  "language_info": {
   "codemirror_mode": {
    "name": "ipython",
    "version": 3
   },
   "file_extension": ".py",
   "mimetype": "text/x-python",
   "name": "python",
   "nbconvert_exporter": "python",
   "pygments_lexer": "ipython3",
   "version": "3.9.6"
  }
 },
 "nbformat": 4,
 "nbformat_minor": 2
}
